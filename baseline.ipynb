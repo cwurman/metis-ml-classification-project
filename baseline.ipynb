{
 "cells": [
  {
   "cell_type": "markdown",
   "metadata": {
    "collapsed": true,
    "pycharm": {
     "name": "#%% md\n"
    }
   },
   "source": [
    "## Metis ML Classification Project Baseline Models\n",
    "\n",
    "Chaya Wurman\n",
    "\n",
    "Goal: Given the CDC NHANES (National Health and Nutrition Examination Survey) data,\n",
    "can we predict if a patient has had a stroke. Strokes are caused by many medical and\n",
    "lifestyle factors, and knowing which factors are highly correlated with strokes can\n",
    "help better predict those who are at higher risk and help mitigate the risk before\n",
    "a potential life-threatening event happens.\n",
    "\n",
    "This notebook is for creating some of the initial models & scoring the performance,\n",
    "with the goal of ultimately tuning it for something better later."
   ]
  },
  {
   "cell_type": "code",
   "execution_count": 2,
   "outputs": [],
   "source": [
    "# Import all our necessary libraries\n",
    "\n",
    "import pandas as pd\n",
    "import numpy as np\n",
    "import matplotlib.pyplot as plt"
   ],
   "metadata": {
    "collapsed": false,
    "pycharm": {
     "name": "#%%\n"
    }
   }
  },
  {
   "cell_type": "code",
   "execution_count": 3,
   "outputs": [
    {
     "name": "stdout",
     "output_type": "stream",
     "text": [
      "<class 'pandas.core.frame.DataFrame'>\n",
      "RangeIndex: 5583 entries, 0 to 5582\n",
      "Data columns (total 30 columns):\n",
      " #   Column                                      Non-Null Count  Dtype  \n",
      "---  ------                                      --------------  -----  \n",
      " 0   Unnamed: 0                                  5583 non-null   int64  \n",
      " 1   chest_pain                                  5583 non-null   float64\n",
      " 2   high_blood_pressure_diagnosed               5583 non-null   float64\n",
      " 3   high_blood_cholesterol                      5583 non-null   float64\n",
      " 4   overweight_diagnosed                        5583 non-null   float64\n",
      " 5   coronary_heart_disease                      5583 non-null   float64\n",
      " 6   LABEL_had_stroke                            5583 non-null   float64\n",
      " 7   diabetes_diagnosed                          5583 non-null   float64\n",
      " 8   diabetes_high_blood_sugar_but_not_diabetes  5583 non-null   float64\n",
      " 9   smoking_smoked_at_least_100_cigarettes      5583 non-null   float64\n",
      " 10  income_family_monthly                       5583 non-null   float64\n",
      " 11  alcohol_use_more_than_12_drinks_per_year    5583 non-null   float64\n",
      " 12  alcohol_use_how_often                       5583 non-null   float64\n",
      " 13  gender                                      5583 non-null   int64  \n",
      " 14  age_years                                   5583 non-null   float64\n",
      " 15  highest_education_level                     5583 non-null   float64\n",
      " 16  weight_kg                                   5583 non-null   float64\n",
      " 17  height_cm                                   5583 non-null   float64\n",
      " 18  diet_is_on                                  5583 non-null   float64\n",
      " 19  marital_status_living_with_partner          5583 non-null   int64  \n",
      " 20  marital_status_married                      5583 non-null   int64  \n",
      " 21  marital_status_nan                          5583 non-null   int64  \n",
      " 22  marital_status_separated                    5583 non-null   int64  \n",
      " 23  marital_status_single                       5583 non-null   int64  \n",
      " 24  marital_status_widowed                      5583 non-null   int64  \n",
      " 25  race_black                                  5583 non-null   int64  \n",
      " 26  race_hispanic                               5583 non-null   int64  \n",
      " 27  race_mexican_american                       5583 non-null   int64  \n",
      " 28  race_other                                  5583 non-null   int64  \n",
      " 29  race_white                                  5583 non-null   int64  \n",
      "dtypes: float64(17), int64(13)\n",
      "memory usage: 1.3 MB\n"
     ]
    }
   ],
   "source": [
    "# Load all the data\n",
    "data = pd.read_csv(\"data_feature_engineered.csv\")\n",
    "data.info()\n"
   ],
   "metadata": {
    "collapsed": false,
    "pycharm": {
     "name": "#%%\n"
    }
   }
  },
  {
   "cell_type": "code",
   "execution_count": 5,
   "outputs": [],
   "source": [
    "# Take just a few features out from here and see if we are still able to train in that scenario\n",
    "data = data[[\"diabetes_diagnosed\", \"age_years\", \"highest_education_level\", \"weight_kg\", \"diet_is_on\", \"LABEL_had_stroke\"]]\n"
   ],
   "metadata": {
    "collapsed": false,
    "pycharm": {
     "name": "#%%\n"
    }
   }
  },
  {
   "cell_type": "code",
   "execution_count": 6,
   "outputs": [],
   "source": [
    "# Split data into train and test\n",
    "from sklearn.model_selection import train_test_split\n",
    "\n",
    "X = data.loc[:, data.columns != \"LABEL_had_stroke\"]\n",
    "y = data.LABEL_had_stroke\n",
    "\n",
    "X_train, X_test, y_train, y_test = train_test_split(X, y, test_size=0.2, random_state=12)\n",
    "\n"
   ],
   "metadata": {
    "collapsed": false,
    "pycharm": {
     "name": "#%%\n"
    }
   }
  },
  {
   "cell_type": "code",
   "execution_count": 13,
   "outputs": [],
   "source": [
    "# Deal with class imbalanced data\n",
    "from imblearn.over_sampling import RandomOverSampler\n",
    "ros = RandomOverSampler(random_state=0)\n",
    "X_train_resampled, y_train_resampled = ros.fit_resample(X_train, y_train)\n"
   ],
   "metadata": {
    "collapsed": false,
    "pycharm": {
     "name": "#%%\n"
    }
   }
  },
  {
   "cell_type": "code",
   "execution_count": 16,
   "outputs": [
    {
     "data": {
      "text/plain": "LogisticRegression()"
     },
     "execution_count": 16,
     "metadata": {},
     "output_type": "execute_result"
    }
   ],
   "source": [
    "# Train a simple model to test\n",
    "from sklearn.linear_model import LogisticRegression\n",
    "\n",
    "logreg = LogisticRegression()\n",
    "logreg.fit(X_train_resampled, y_train_resampled)\n"
   ],
   "metadata": {
    "collapsed": false,
    "pycharm": {
     "name": "#%%\n"
    }
   }
  },
  {
   "cell_type": "code",
   "execution_count": 17,
   "outputs": [
    {
     "name": "stdout",
     "output_type": "stream",
     "text": [
      "Initial accuracy: 0.7170993733213966\n",
      "Initial recall score: 0.7804878048780488\n"
     ]
    },
    {
     "data": {
      "text/plain": "<sklearn.metrics._plot.confusion_matrix.ConfusionMatrixDisplay at 0x1af16b5e0>"
     },
     "execution_count": 17,
     "metadata": {},
     "output_type": "execute_result"
    },
    {
     "data": {
      "text/plain": "<Figure size 432x288 with 2 Axes>",
      "image/png": "[encoded data removed]"
     },
     "metadata": {
      "needs_background": "light"
     },
     "output_type": "display_data"
    }
   ],
   "source": [
    "# Score our initial models\n",
    "score = logreg.score(X_test, y_test)\n",
    "print(f\"Initial accuracy: {score}\")\n",
    "\n",
    "predictions = logreg.predict(X_test)\n",
    "from sklearn.metrics import recall_score\n",
    "recall = recall_score(y_test, predictions)\n",
    "print(f\"Initial recall score: {recall}\")\n",
    "\n",
    "\n",
    "from sklearn.metrics import ConfusionMatrixDisplay\n",
    "ConfusionMatrixDisplay.from_estimator(logreg, X_test, y_test)\n"
   ],
   "metadata": {
    "collapsed": false,
    "pycharm": {
     "name": "#%%\n"
    }
   }
  },
  {
   "cell_type": "markdown",
   "source": [
    "Conclusions from initial observation\n",
    " - Our accuracy and recall are similar, but this model could definitely still be better!\n",
    " - Next steps:\n",
    "   - Perform a smarter oversampling technique instead of just random oversampling\n",
    "   - Use more of the features available to us and ultimately see if we can get a interpretable model\n",
    "   - Experiment with tuning a few different types of models and we what we can get"
   ],
   "metadata": {
    "collapsed": false,
    "pycharm": {
     "name": "#%% md\n"
    }
   }
  }
 ],
 "metadata": {
  "kernelspec": {
   "name": "conda-env-metis-py",
   "language": "python",
   "display_name": "Python [conda env:metis] *"
  },
  "language_info": {
   "codemirror_mode": {
    "name": "ipython",
    "version": 2
   },
   "file_extension": ".py",
   "mimetype": "text/x-python",
   "name": "python",
   "nbconvert_exporter": "python",
   "pygments_lexer": "ipython2",
   "version": "2.7.6"
  }
 },
 "nbformat": 4,
 "nbformat_minor": 0
}