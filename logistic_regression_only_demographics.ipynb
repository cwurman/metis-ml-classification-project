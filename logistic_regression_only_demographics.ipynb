{
 "cells": [
  {
   "cell_type": "code",
   "execution_count": null,
   "metadata": {
    "collapsed": true
   },
   "outputs": [],
   "source": []
  },
  {
   "cell_type": "markdown",
   "metadata": {},
   "source": [
    "## Metis ML Classification Project\n",
    "\n",
    "Chaya Wurman\n",
    "\n",
    "Goal: Given the CDC NHANES (National Health and Nutrition Examination Survey) data,\n",
    "can we predict if a patient has had a stroke. Strokes are caused by many medical and\n",
    "lifestyle factors, and knowing which factors are highly correlated with strokes can\n",
    "help better predict those who are at higher risk and help mitigate the risk before\n",
    "a potential life-threatening event happens.\n",
    "\n",
    "This notebook contains the final models using logistic regression & scoring for our goal!"
   ]
  },
  {
   "cell_type": "code",
   "execution_count": 1,
   "metadata": {
    "pycharm": {
     "name": "#%%\n"
    }
   },
   "outputs": [],
   "source": [
    "# Import all our necessary libraries\n",
    "\n",
    "import pandas as pd\n",
    "import numpy as np\n",
    "import matplotlib.pyplot as plt\n",
    "from sklearn.linear_model import LogisticRegression\n",
    "from sklearn.metrics import recall_score, accuracy_score, precision_score, roc_curve, auc"
   ]
  },
  {
   "cell_type": "code",
   "execution_count": 25,
   "metadata": {
    "pycharm": {
     "name": "#%%\n"
    }
   },
   "outputs": [
    {
     "name": "stdout",
     "output_type": "stream",
     "text": [
      "<class 'pandas.core.frame.DataFrame'>\n",
      "RangeIndex: 5583 entries, 0 to 5582\n",
      "Data columns (total 20 columns):\n",
      " #   Column                                      Non-Null Count  Dtype  \n",
      "---  ------                                      --------------  -----  \n",
      " 0   chest_pain                                  5583 non-null   float64\n",
      " 1   high_blood_pressure_diagnosed               5583 non-null   float64\n",
      " 2   high_blood_cholesterol                      5583 non-null   float64\n",
      " 3   overweight_diagnosed                        5583 non-null   float64\n",
      " 4   coronary_heart_disease                      5583 non-null   float64\n",
      " 5   LABEL_had_stroke                            5583 non-null   float64\n",
      " 6   diabetes_diagnosed                          5583 non-null   float64\n",
      " 7   diabetes_high_blood_sugar_but_not_diabetes  5583 non-null   float64\n",
      " 8   smoking_smoked_at_least_100_cigarettes      5583 non-null   float64\n",
      " 9   income_family_monthly                       5583 non-null   float64\n",
      " 10  alcohol_use_more_than_12_drinks_per_year    5583 non-null   float64\n",
      " 11  alcohol_use_how_often                       5583 non-null   float64\n",
      " 12  gender                                      5583 non-null   int64  \n",
      " 13  age_years                                   5583 non-null   float64\n",
      " 14  race                                        5583 non-null   object \n",
      " 15  highest_education_level                     5583 non-null   float64\n",
      " 16  marital_status                              5583 non-null   object \n",
      " 17  weight_kg                                   5583 non-null   float64\n",
      " 18  height_cm                                   5583 non-null   float64\n",
      " 19  diet_is_on                                  5583 non-null   float64\n",
      "dtypes: float64(17), int64(1), object(2)\n",
      "memory usage: 872.5+ KB\n"
     ]
    }
   ],
   "source": [
    "# Load all the data\n",
    "data = pd.read_csv(\"data_feature_engineered.csv\")\n",
    "# drop the first col from the csv\n",
    "data = data.iloc[: , 1:]\n",
    "data.info()"
   ]
  },
  {
   "cell_type": "code",
   "execution_count": 31,
   "metadata": {
    "pycharm": {
     "name": "#%% some more data cleaning\n"
    }
   },
   "outputs": [],
   "source": [
    "# Trees will require our data to be label encoded\n",
    "\n",
    "from sklearn.preprocessing import LabelEncoder\n",
    "encoder = LabelEncoder()\n",
    "data[\"marital_status\"] = encoder.fit_transform(data[\"marital_status\"])\n",
    "data[\"race\"] = encoder.fit_transform(data[\"race\"])\n"
   ]
  },
  {
   "cell_type": "code",
   "execution_count": 32,
   "metadata": {
    "pycharm": {
     "name": "#%%\n"
    }
   },
   "outputs": [
    {
     "name": "stdout",
     "output_type": "stream",
     "text": [
      "<class 'pandas.core.frame.DataFrame'>\n",
      "RangeIndex: 5583 entries, 0 to 5582\n",
      "Data columns (total 6 columns):\n",
      " #   Column                   Non-Null Count  Dtype  \n",
      "---  ------                   --------------  -----  \n",
      " 0   income_family_monthly    5583 non-null   float64\n",
      " 1   age_years                5583 non-null   float64\n",
      " 2   race                     5583 non-null   int64  \n",
      " 3   highest_education_level  5583 non-null   float64\n",
      " 4   marital_status           5583 non-null   int64  \n",
      " 5   LABEL_had_stroke         5583 non-null   float64\n",
      "dtypes: float64(4), int64(2)\n",
      "memory usage: 261.8 KB\n"
     ]
    }
   ],
   "source": [
    "# Only take in a subset of features related to demographics\n",
    "data = data[[\"income_family_monthly\", \"age_years\",\"race\",\"highest_education_level\",\"marital_status\", \"LABEL_had_stroke\"]]\n",
    "data.info()"
   ]
  },
  {
   "cell_type": "code",
   "execution_count": 33,
   "metadata": {
    "pycharm": {
     "name": "#%%\n"
    }
   },
   "outputs": [],
   "source": [
    "# Split data into train and test\n",
    "from sklearn.model_selection import train_test_split\n",
    "\n",
    "X = data.loc[:, data.columns != \"LABEL_had_stroke\"]\n",
    "y = data.LABEL_had_stroke\n",
    "\n",
    "X_train, X_test, y_train, y_test = train_test_split(X, y, test_size=0.2, random_state=12)\n",
    "\n"
   ]
  },
  {
   "cell_type": "code",
   "execution_count": 34,
   "metadata": {
    "pycharm": {
     "name": "#%% SMOTE in order to fix our class-imbalanced data\n"
    }
   },
   "outputs": [],
   "source": [
    "# Use SMOTENC since we have categorical and\n",
    "from imblearn.over_sampling import SMOTENC\n",
    "\n",
    "categorial_indices = [2, 3, 4]\n",
    "smote_nc = SMOTENC(categorical_features=categorial_indices, random_state=0)\n",
    "X_train, y_train = smote_nc.fit_resample(X_train, y_train)\n",
    "\n"
   ]
  },
  {
   "cell_type": "code",
   "execution_count": 35,
   "metadata": {
    "pycharm": {
     "name": "#%% Train a logistic regression model on all our features\n"
    }
   },
   "outputs": [
    {
     "name": "stdout",
     "output_type": "stream",
     "text": [
      "Metrics for Logistic Regression\n",
      "  - Accuracy: 0.7170993733213966\n",
      "  - Recall: 0.6829268292682927\n",
      "  - Precision: 0.08459214501510574\n",
      "  - F1 Score: 0.15053763440860216\n",
      "  - AUC: 0.7006641581285702\n"
     ]
    },
    {
     "data": {
      "text/plain": [
       "<sklearn.metrics._plot.confusion_matrix.ConfusionMatrixDisplay at 0x110580dc0>"
      ]
     },
     "execution_count": 35,
     "metadata": {},
     "output_type": "execute_result"
    },
    {
     "data": {
      "image/png": "[encoded data removed]",
      "text/plain": [
       "<Figure size 432x288 with 2 Axes>"
      ]
     },
     "metadata": {
      "needs_background": "light"
     },
     "output_type": "display_data"
    }
   ],
   "source": [
    "# cols_to_drop = [\"gender\", \"marital_status\"]\n",
    "# X_train = X_train.drop(columns=cols_to_drop)\n",
    "# X_test = X_test.drop(columns=cols_to_drop)\n",
    "\n",
    "logreg = LogisticRegression(max_iter=50)\n",
    "logreg.fit(X_train, y_train)\n",
    "\n",
    "from sklearn.metrics import recall_score, accuracy_score, precision_score, roc_curve, auc, f1_score\n",
    "\n",
    "def print_basic_metrics(model_name, y_true, y_pred):\n",
    "    print(f\"Metrics for {model_name}\")\n",
    "    print(f\"  - Accuracy: {accuracy_score(y_true, y_pred)}\")\n",
    "    print(f\"  - Recall: {recall_score(y_true, y_pred)}\")\n",
    "    print(f\"  - Precision: {precision_score(y_true, y_pred)}\")\n",
    "    print(f\"  - F1 Score: {f1_score(y_true, y_pred)}\")\n",
    "    fpr, tpr, thresholds = roc_curve(y_true, y_pred, pos_label=1)\n",
    "    print(f\"  - AUC: {auc(fpr, tpr)}\")\n",
    "\n",
    "print_basic_metrics(\"Logistic Regression\", y_test, logreg.predict(X_test))\n",
    "\n",
    "\n",
    "from sklearn.metrics import ConfusionMatrixDisplay\n",
    "ConfusionMatrixDisplay.from_estimator(logreg, X_test, y_test)\n"
   ]
  },
  {
   "cell_type": "code",
   "execution_count": 36,
   "metadata": {
    "pycharm": {
     "name": "#%% Out of these ones, which are the most important?\n"
    }
   },
   "outputs": [
    {
     "name": "stdout",
     "output_type": "stream",
     "text": [
      "Feature income_family_monthly, Score -0.17137153855882817\n",
      "Feature age_years, Score 0.08746981396938716\n",
      "Feature race, Score 0.19904472187422606\n",
      "Feature highest_education_level, Score -0.08931927190473393\n",
      "Feature marital_status, Score -0.27227003257175725\n"
     ]
    },
    {
     "data": {
      "image/png": "[encoded data removed]",
      "text/plain": [
       "<Figure size 432x288 with 1 Axes>"
      ]
     },
     "metadata": {
      "needs_background": "light"
     },
     "output_type": "display_data"
    }
   ],
   "source": [
    "# Lastly, get the coefficients for all these so we can have a ranked list of the most important\n",
    "importance = logreg.coef_[0]\n",
    "# summarize feature importance\n",
    "for i,v in enumerate(importance):\n",
    "    print(f\"Feature {X_train.columns[i]}, Score {importance[i]}\")\n",
    "# plot feature importance\n",
    "plt.bar(range(len(importance)), importance)\n",
    "plt.xticks(range(len(importance)), X_train.columns, rotation=-90)\n",
    "plt.show()"
   ]
  }
 ],
 "metadata": {
  "kernelspec": {
   "display_name": "Python 3 (ipykernel)",
   "language": "python",
   "name": "python3"
  },
  "language_info": {
   "codemirror_mode": {
    "name": "ipython",
    "version": 3
   },
   "file_extension": ".py",
   "mimetype": "text/x-python",
   "name": "python",
   "nbconvert_exporter": "python",
   "pygments_lexer": "ipython3",
   "version": "3.9.9"
  }
 },
 "nbformat": 4,
 "nbformat_minor": 1
}