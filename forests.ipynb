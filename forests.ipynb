{
 "cells": [
  {
   "cell_type": "markdown",
   "source": [
    "## Metis ML Classification Project\n",
    "\n",
    "Chaya Wurman\n",
    "\n",
    "Goal: Given the CDC NHANES (National Health and Nutrition Examination Survey) data,\n",
    "can we predict if a patient has had a stroke. Strokes are caused by many medical and\n",
    "lifestyle factors, and knowing which factors are highly correlated with strokes can\n",
    "help better predict those who are at higher risk and help mitigate the risk before\n",
    "a potential life-threatening event happens.\n",
    "\n",
    "This notebook contains the final models for trees & scoring for our goal!"
   ],
   "metadata": {
    "collapsed": false
   }
  },
  {
   "cell_type": "code",
   "execution_count": 1,
   "outputs": [],
   "source": [
    "# Import all our necessary libraries\n",
    "\n",
    "import pandas as pd\n",
    "import numpy as np\n",
    "import matplotlib.pyplot as plt"
   ],
   "metadata": {
    "collapsed": false,
    "pycharm": {
     "name": "#%%\n"
    }
   }
  },
  {
   "cell_type": "code",
   "execution_count": 2,
   "outputs": [
    {
     "name": "stdout",
     "output_type": "stream",
     "text": [
      "<class 'pandas.core.frame.DataFrame'>\n",
      "RangeIndex: 5583 entries, 0 to 5582\n",
      "Data columns (total 20 columns):\n",
      " #   Column                                      Non-Null Count  Dtype  \n",
      "---  ------                                      --------------  -----  \n",
      " 0   chest_pain                                  5583 non-null   float64\n",
      " 1   high_blood_pressure_diagnosed               5583 non-null   float64\n",
      " 2   high_blood_cholesterol                      5583 non-null   float64\n",
      " 3   overweight_diagnosed                        5583 non-null   float64\n",
      " 4   coronary_heart_disease                      5583 non-null   float64\n",
      " 5   LABEL_had_stroke                            5583 non-null   float64\n",
      " 6   diabetes_diagnosed                          5583 non-null   float64\n",
      " 7   diabetes_high_blood_sugar_but_not_diabetes  5583 non-null   float64\n",
      " 8   smoking_smoked_at_least_100_cigarettes      5583 non-null   float64\n",
      " 9   income_family_monthly                       5583 non-null   float64\n",
      " 10  alcohol_use_more_than_12_drinks_per_year    5583 non-null   float64\n",
      " 11  alcohol_use_how_often                       5583 non-null   float64\n",
      " 12  gender                                      5583 non-null   int64  \n",
      " 13  age_years                                   5583 non-null   float64\n",
      " 14  race                                        5583 non-null   object \n",
      " 15  highest_education_level                     5583 non-null   float64\n",
      " 16  marital_status                              5583 non-null   object \n",
      " 17  weight_kg                                   5583 non-null   float64\n",
      " 18  height_cm                                   5583 non-null   float64\n",
      " 19  diet_is_on                                  5583 non-null   float64\n",
      "dtypes: float64(17), int64(1), object(2)\n",
      "memory usage: 872.5+ KB\n"
     ]
    }
   ],
   "source": [
    "# Load all the data\n",
    "data = pd.read_csv(\"data_feature_engineered.csv\")\n",
    "# drop the first col from the csv\n",
    "data = data.iloc[: , 1:]\n",
    "data.info()"
   ],
   "metadata": {
    "collapsed": false,
    "pycharm": {
     "name": "#%%\n"
    }
   }
  },
  {
   "cell_type": "code",
   "execution_count": 23,
   "outputs": [],
   "source": [
    "# Trees will require our data to be label encoded\n",
    "\n",
    "from sklearn.preprocessing import LabelEncoder\n",
    "encoder = LabelEncoder()\n",
    "data[\"marital_status\"] = encoder.fit_transform(data[\"marital_status\"])\n",
    "data[\"race\"] = encoder.fit_transform(data[\"race\"])"
   ],
   "metadata": {
    "collapsed": false,
    "pycharm": {
     "name": "#%% some more data cleaning\n"
    }
   }
  },
  {
   "cell_type": "code",
   "execution_count": 24,
   "outputs": [],
   "source": [
    "# Split data into train and test\n",
    "from sklearn.model_selection import train_test_split\n",
    "\n",
    "X = data.loc[:, data.columns != \"LABEL_had_stroke\"]\n",
    "y = data.LABEL_had_stroke\n",
    "\n",
    "X_train, X_test, y_train, y_test = train_test_split(X, y, test_size=0.2, random_state=12)\n",
    "\n"
   ],
   "metadata": {
    "collapsed": false,
    "pycharm": {
     "name": "#%%\n"
    }
   }
  },
  {
   "cell_type": "code",
   "execution_count": 25,
   "outputs": [],
   "source": [
    "# Use SMOTENC since we have categorical and\n",
    "from imblearn.over_sampling import SMOTENC\n",
    "\n",
    "categorial_indices = [0, 1, 2, 3, 4, 5, 6, 7, 9, 11, 13, 14, 15, 18]\n",
    "smote_nc = SMOTENC(categorical_features=categorial_indices, random_state=0)\n",
    "X_train, y_train = smote_nc.fit_resample(X_train, y_train)\n"
   ],
   "metadata": {
    "collapsed": false,
    "pycharm": {
     "name": "#%% SMOTE in order to fix our class-imbalanced data\n"
    }
   }
  },
  {
   "cell_type": "code",
   "execution_count": 43,
   "outputs": [
    {
     "name": "stdout",
     "output_type": "stream",
     "text": [
      "[00:04:54] WARNING: /Users/runner/miniforge3/conda-bld/xgboost-split_1637426408905/work/src/learner.cc:1115: Starting in XGBoost 1.3.0, the default evaluation metric used with the objective 'binary:logistic' was changed from 'error' to 'logloss'. Explicitly set eval_metric if you'd like to restore the old behavior.\n"
     ]
    },
    {
     "name": "stderr",
     "output_type": "stream",
     "text": [
      "/Users/chaya.wurman/miniconda3/envs/metis/lib/python3.9/site-packages/xgboost/sklearn.py:1224: UserWarning: The use of label encoder in XGBClassifier is deprecated and will be removed in a future release. To remove this warning, do the following: 1) Pass option use_label_encoder=False when constructing XGBClassifier object; and 2) Encode your labels (y) as integers starting with 0, i.e. 0, 1, 2, ..., [num_class - 1].\n",
      "  warnings.warn(label_encoder_deprecation_msg, UserWarning)\n"
     ]
    },
    {
     "data": {
      "text/plain": "XGBClassifier(base_score=0.5, booster='gbtree', colsample_bylevel=1,\n              colsample_bynode=1, colsample_bytree=1, enable_categorical=False,\n              gamma=0, gpu_id=-1, importance_type=None,\n              interaction_constraints='', learning_rate=0.300000012,\n              max_delta_step=0, max_depth=1, min_child_weight=1, missing=nan,\n              monotone_constraints='()', n_estimators=70, n_jobs=16,\n              num_parallel_tree=1, predictor='auto', random_state=0,\n              reg_alpha=0, reg_lambda=1, scale_pos_weight=1, subsample=1,\n              tree_method='exact', validate_parameters=1, verbosity=None)"
     },
     "execution_count": 43,
     "metadata": {},
     "output_type": "execute_result"
    }
   ],
   "source": [
    "from xgboost import XGBClassifier\n",
    "xgboost_model = XGBClassifier(max_depth=1, n_estimators=70)\n",
    "xgboost_model.fit(X_train, y_train)\n",
    "\n",
    "# from sklearn.metrics import f1_score, recall_score\n",
    "# for n_estimators in range(10, 200, 20):\n",
    "#     model = XGBClassifier(max_depth=1, n_estimators=n_estimators)\n",
    "#     model.fit(X_train, y_train)\n",
    "#     predictions = model.predict(X_test)\n",
    "#     print(n_estimators, f1_score(y_test, predictions), recall_score(y_test, predictions))\n"
   ],
   "metadata": {
    "collapsed": false,
    "pycharm": {
     "name": "#%% Boosting!\n"
    }
   }
  },
  {
   "cell_type": "code",
   "execution_count": 44,
   "outputs": [
    {
     "data": {
      "text/plain": "RandomForestClassifier(max_depth=6, n_estimators=200)"
     },
     "execution_count": 44,
     "metadata": {},
     "output_type": "execute_result"
    }
   ],
   "source": [
    "from sklearn.ensemble import RandomForestClassifier\n",
    "\n",
    "random_forest_model = RandomForestClassifier(max_depth=6, n_estimators=200)\n",
    "random_forest_model.fit(X_train, y_train)\n",
    "\n",
    "# I edited this code block to do some super rough tuning of our hyperparameters to optimize\n",
    "# for recall and f1_score\n",
    "# from sklearn.metrics import f1_score, recall_score\n",
    "#\n",
    "# for max_depth in range(1, 10):\n",
    "#     random_forest_model = RandomForestClassifier(max_depth=max_depth, n_estimators=200)\n",
    "#     random_forest_model.fit(X_train, y_train)\n",
    "#     predictions = random_forest_model.predict(X_test)\n",
    "#     print(f1_score(y_test, predictions), recall_score(y_test, predictions))"
   ],
   "metadata": {
    "collapsed": false,
    "pycharm": {
     "name": "#%% Random forests!\n"
    }
   }
  },
  {
   "cell_type": "code",
   "execution_count": 47,
   "outputs": [
    {
     "name": "stdout",
     "output_type": "stream",
     "text": [
      "Metrics for XGBoost\n",
      "  - Accuracy: 0.8290062667860341\n",
      "  - Recall: 0.6097560975609756\n",
      "  - Precision: 0.125\n",
      "  - AUC: 0.7235583461782574\n",
      "Metrics for Random Forest\n",
      "  - Accuracy: 0.8137869292748433\n",
      "  - Recall: 0.4634146341463415\n",
      "  - Precision: 0.09268292682926829\n",
      "  - AUC: 0.6452760903073714\n"
     ]
    },
    {
     "data": {
      "text/plain": "<sklearn.metrics._plot.confusion_matrix.ConfusionMatrixDisplay at 0x1b14cda60>"
     },
     "execution_count": 47,
     "metadata": {},
     "output_type": "execute_result"
    },
    {
     "data": {
      "text/plain": "<Figure size 432x288 with 2 Axes>",
      "image/png": "[encoded data removed]"
     },
     "metadata": {
      "needs_background": "light"
     },
     "output_type": "display_data"
    },
    {
     "data": {
      "text/plain": "<Figure size 432x288 with 2 Axes>",
      "image/png": "[encoded data removed]"
     },
     "metadata": {
      "needs_background": "light"
     },
     "output_type": "display_data"
    }
   ],
   "source": [
    "from sklearn.metrics import recall_score, accuracy_score, precision_score, roc_curve, auc, f1_score\n",
    "\n",
    "# Get hard predictions\n",
    "xg_boost_predictions = xgboost_model.predict(X_test)\n",
    "\n",
    "random_forest_predictions = random_forest_model.predict(X_test)\n",
    "\n",
    "# Basic: accurary, recall, precision\n",
    "def print_basic_metrics(model_name, y_true, y_pred):\n",
    "    print(f\"Metrics for {model_name}\")\n",
    "    print(f\"  - Accuracy: {accuracy_score(y_true, y_pred)}\")\n",
    "    print(f\"  - Recall: {recall_score(y_true, y_pred)}\")\n",
    "    print(f\"  - Precision: {precision_score(y_true, y_pred)}\")\n",
    "    print(f\"  - F1 Score: {f1_score(y_true, y_pred)}\")\n",
    "    fpr, tpr, thresholds = roc_curve(y_true, y_pred, pos_label=1)\n",
    "    print(f\"  - AUC: {auc(fpr, tpr)}\")\n",
    "\n",
    "\n",
    "print_basic_metrics(\"XGBoost\", y_test, xg_boost_predictions)\n",
    "print_basic_metrics(\"Random Forest\", y_test, random_forest_predictions)\n",
    "\n",
    "# Confusion Matrix\n",
    "from sklearn.metrics import ConfusionMatrixDisplay\n",
    "ConfusionMatrixDisplay.from_estimator(xgboost_model, X_test, y_test)\n",
    "ConfusionMatrixDisplay.from_estimator(random_forest_model, X_test, y_test)\n"
   ],
   "metadata": {
    "collapsed": false,
    "pycharm": {
     "name": "#%% Scoring\n"
    }
   }
  },
  {
   "cell_type": "code",
   "execution_count": null,
   "outputs": [],
   "source": [],
   "metadata": {
    "collapsed": false,
    "pycharm": {
     "name": "#%%\n"
    }
   }
  }
 ],
 "metadata": {
  "kernelspec": {
   "display_name": "Python 3",
   "language": "python",
   "name": "python3"
  },
  "language_info": {
   "codemirror_mode": {
    "name": "ipython",
    "version": 2
   },
   "file_extension": ".py",
   "mimetype": "text/x-python",
   "name": "python",
   "nbconvert_exporter": "python",
   "pygments_lexer": "ipython2",
   "version": "2.7.6"
  }
 },
 "nbformat": 4,
 "nbformat_minor": 0
}