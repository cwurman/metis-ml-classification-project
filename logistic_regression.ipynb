{
 "cells": [
  {
   "cell_type": "code",
   "execution_count": null,
   "metadata": {
    "collapsed": true
   },
   "outputs": [],
   "source": []
  },
  {
   "cell_type": "markdown",
   "source": [
    "## Metis ML Classification Project\n",
    "\n",
    "Chaya Wurman\n",
    "\n",
    "Goal: Given the CDC NHANES (National Health and Nutrition Examination Survey) data,\n",
    "can we predict if a patient has had a stroke. Strokes are caused by many medical and\n",
    "lifestyle factors, and knowing which factors are highly correlated with strokes can\n",
    "help better predict those who are at higher risk and help mitigate the risk before\n",
    "a potential life-threatening event happens.\n",
    "\n",
    "This notebook contains the final models using logistic regression & scoring for our goal!"
   ],
   "metadata": {
    "collapsed": false
   }
  },
  {
   "cell_type": "code",
   "execution_count": 2,
   "outputs": [],
   "source": [
    "# Import all our necessary libraries\n",
    "\n",
    "import pandas as pd\n",
    "import numpy as np\n",
    "import matplotlib.pyplot as plt\n",
    "from sklearn.linear_model import LogisticRegression\n",
    "from sklearn.metrics import recall_score, accuracy_score, precision_score, roc_curve, auc\n",
    "\n",
    "x = 5"
   ],
   "metadata": {
    "collapsed": false,
    "pycharm": {
     "name": "#%%\n"
    }
   }
  },
  {
   "cell_type": "code",
   "execution_count": 3,
   "outputs": [
    {
     "name": "stdout",
     "output_type": "stream",
     "text": [
      "<class 'pandas.core.frame.DataFrame'>\n",
      "RangeIndex: 5583 entries, 0 to 5582\n",
      "Data columns (total 20 columns):\n",
      " #   Column                                      Non-Null Count  Dtype  \n",
      "---  ------                                      --------------  -----  \n",
      " 0   chest_pain                                  5583 non-null   float64\n",
      " 1   high_blood_pressure_diagnosed               5583 non-null   float64\n",
      " 2   high_blood_cholesterol                      5583 non-null   float64\n",
      " 3   overweight_diagnosed                        5583 non-null   float64\n",
      " 4   coronary_heart_disease                      5583 non-null   float64\n",
      " 5   LABEL_had_stroke                            5583 non-null   float64\n",
      " 6   diabetes_diagnosed                          5583 non-null   float64\n",
      " 7   diabetes_high_blood_sugar_but_not_diabetes  5583 non-null   float64\n",
      " 8   smoking_smoked_at_least_100_cigarettes      5583 non-null   float64\n",
      " 9   income_family_monthly                       5583 non-null   float64\n",
      " 10  alcohol_use_more_than_12_drinks_per_year    5583 non-null   float64\n",
      " 11  alcohol_use_how_often                       5583 non-null   float64\n",
      " 12  gender                                      5583 non-null   int64  \n",
      " 13  age_years                                   5583 non-null   float64\n",
      " 14  race                                        5583 non-null   object \n",
      " 15  highest_education_level                     5583 non-null   float64\n",
      " 16  marital_status                              5583 non-null   object \n",
      " 17  weight_kg                                   5583 non-null   float64\n",
      " 18  height_cm                                   5583 non-null   float64\n",
      " 19  diet_is_on                                  5583 non-null   float64\n",
      "dtypes: float64(17), int64(1), object(2)\n",
      "memory usage: 872.5+ KB\n"
     ]
    }
   ],
   "source": [
    "# Load all the data\n",
    "data = pd.read_csv(\"data_feature_engineered.csv\")\n",
    "# drop the first col from the csv\n",
    "data = data.iloc[: , 1:]\n",
    "data.info()"
   ],
   "metadata": {
    "collapsed": false,
    "pycharm": {
     "name": "#%%\n"
    }
   }
  },
  {
   "cell_type": "code",
   "execution_count": 4,
   "outputs": [],
   "source": [
    "# Trees will require our data to be label encoded\n",
    "\n",
    "from sklearn.preprocessing import LabelEncoder\n",
    "encoder = LabelEncoder()\n",
    "data[\"marital_status\"] = encoder.fit_transform(data[\"marital_status\"])\n",
    "data[\"race\"] = encoder.fit_transform(data[\"race\"])"
   ],
   "metadata": {
    "collapsed": false,
    "pycharm": {
     "name": "#%% some more data cleaning\n"
    }
   }
  },
  {
   "cell_type": "code",
   "execution_count": 5,
   "outputs": [],
   "source": [
    "# Split data into train and test\n",
    "from sklearn.model_selection import train_test_split\n",
    "\n",
    "X = data.loc[:, data.columns != \"LABEL_had_stroke\"]\n",
    "y = data.LABEL_had_stroke\n",
    "\n",
    "X_train, X_test, y_train, y_test = train_test_split(X, y, test_size=0.2, random_state=12)\n",
    "\n"
   ],
   "metadata": {
    "collapsed": false,
    "pycharm": {
     "name": "#%%\n"
    }
   }
  },
  {
   "cell_type": "code",
   "execution_count": 6,
   "outputs": [],
   "source": [
    "# Use SMOTENC since we have categorical and\n",
    "from imblearn.over_sampling import SMOTENC\n",
    "\n",
    "categorial_indices = [0, 1, 2, 3, 4, 5, 6, 7, 9, 11, 13, 14, 15, 18]\n",
    "smote_nc = SMOTENC(categorical_features=categorial_indices, random_state=0)\n",
    "X_train, y_train = smote_nc.fit_resample(X_train, y_train)\n",
    "\n"
   ],
   "metadata": {
    "collapsed": false,
    "pycharm": {
     "name": "#%% SMOTE in order to fix our class-imbalanced data\n"
    }
   }
  },
  {
   "cell_type": "code",
   "execution_count": 7,
   "outputs": [
    {
     "name": "stdout",
     "output_type": "stream",
     "text": [
      "Metrics for Logistic Regression\n",
      "  - Accuracy: 0.7869292748433303\n",
      "  - Recall: 0.5609756097560976\n",
      "  - Precision: 0.09465020576131687\n",
      "  - F1 Score: 0.1619718309859155\n",
      "  - AUC: 0.6782573216066733\n"
     ]
    },
    {
     "name": "stderr",
     "output_type": "stream",
     "text": [
      "/Users/chaya.wurman/miniconda3/envs/metis/lib/python3.9/site-packages/sklearn/linear_model/_logistic.py:814: ConvergenceWarning: lbfgs failed to converge (status=1):\n",
      "STOP: TOTAL NO. of ITERATIONS REACHED LIMIT.\n",
      "\n",
      "Increase the number of iterations (max_iter) or scale the data as shown in:\n",
      "    https://scikit-learn.org/stable/modules/preprocessing.html\n",
      "Please also refer to the documentation for alternative solver options:\n",
      "    https://scikit-learn.org/stable/modules/linear_model.html#logistic-regression\n",
      "  n_iter_i = _check_optimize_result(\n"
     ]
    },
    {
     "data": {
      "text/plain": "<sklearn.metrics._plot.confusion_matrix.ConfusionMatrixDisplay at 0x1060b24f0>"
     },
     "execution_count": 7,
     "metadata": {},
     "output_type": "execute_result"
    },
    {
     "data": {
      "text/plain": "<Figure size 432x288 with 2 Axes>",
      "image/png": "[encoded data removed]"
     },
     "metadata": {
      "needs_background": "light"
     },
     "output_type": "display_data"
    }
   ],
   "source": [
    "logreg = LogisticRegression(max_iter=50)\n",
    "logreg.fit(X_train, y_train)\n",
    "\n",
    "from sklearn.metrics import recall_score, accuracy_score, precision_score, roc_curve, auc, f1_score\n",
    "\n",
    "def print_basic_metrics(model_name, y_true, y_pred):\n",
    "    print(f\"Metrics for {model_name}\")\n",
    "    print(f\"  - Accuracy: {accuracy_score(y_true, y_pred)}\")\n",
    "    print(f\"  - Recall: {recall_score(y_true, y_pred)}\")\n",
    "    print(f\"  - Precision: {precision_score(y_true, y_pred)}\")\n",
    "    print(f\"  - F1 Score: {f1_score(y_true, y_pred)}\")\n",
    "    fpr, tpr, thresholds = roc_curve(y_true, y_pred, pos_label=1)\n",
    "    print(f\"  - AUC: {auc(fpr, tpr)}\")\n",
    "\n",
    "print_basic_metrics(\"Logistic Regression\", y_test, logreg.predict(X_test))\n",
    "\n",
    "\"\"\"\n",
    "Metrics for Linear Regression\n",
    "  - Accuracy: 0.7869292748433303\n",
    "  - Recall: 0.5609756097560976\n",
    "  - Precision: 0.09465020576131687\n",
    "  - F1 Score: 0.1619718309859155\n",
    "  - AUC: 0.6782573216066733\n",
    "\"\"\"\n",
    "from sklearn.metrics import ConfusionMatrixDisplay\n",
    "ConfusionMatrixDisplay.from_estimator(logreg, X_test, y_test)\n",
    "\n",
    "# Realistically, we should probably filter some of these down\n",
    "# So, find which are our best features"
   ],
   "metadata": {
    "collapsed": false,
    "pycharm": {
     "name": "#%% Train a logistic regression model on all our features\n"
    }
   }
  },
  {
   "cell_type": "code",
   "execution_count": 8,
   "outputs": [
    {
     "name": "stdout",
     "output_type": "stream",
     "text": [
      "969\n"
     ]
    },
    {
     "name": "stderr",
     "output_type": "stream",
     "text": [
      "/Users/chaya.wurman/miniconda3/envs/metis/lib/python3.9/site-packages/sklearn/linear_model/_logistic.py:814: ConvergenceWarning: lbfgs failed to converge (status=1):\n",
      "STOP: TOTAL NO. of ITERATIONS REACHED LIMIT.\n",
      "\n",
      "Increase the number of iterations (max_iter) or scale the data as shown in:\n",
      "    https://scikit-learn.org/stable/modules/preprocessing.html\n",
      "Please also refer to the documentation for alternative solver options:\n",
      "    https://scikit-learn.org/stable/modules/linear_model.html#logistic-regression\n",
      "  n_iter_i = _check_optimize_result(\n",
      "/Users/chaya.wurman/miniconda3/envs/metis/lib/python3.9/site-packages/sklearn/linear_model/_logistic.py:814: ConvergenceWarning: lbfgs failed to converge (status=1):\n",
      "STOP: TOTAL NO. of ITERATIONS REACHED LIMIT.\n",
      "\n",
      "Increase the number of iterations (max_iter) or scale the data as shown in:\n",
      "    https://scikit-learn.org/stable/modules/preprocessing.html\n",
      "Please also refer to the documentation for alternative solver options:\n",
      "    https://scikit-learn.org/stable/modules/linear_model.html#logistic-regression\n",
      "  n_iter_i = _check_optimize_result(\n",
      "/Users/chaya.wurman/miniconda3/envs/metis/lib/python3.9/site-packages/sklearn/linear_model/_logistic.py:814: ConvergenceWarning: lbfgs failed to converge (status=1):\n",
      "STOP: TOTAL NO. of ITERATIONS REACHED LIMIT.\n",
      "\n",
      "Increase the number of iterations (max_iter) or scale the data as shown in:\n",
      "    https://scikit-learn.org/stable/modules/preprocessing.html\n",
      "Please also refer to the documentation for alternative solver options:\n",
      "    https://scikit-learn.org/stable/modules/linear_model.html#logistic-regression\n",
      "  n_iter_i = _check_optimize_result(\n",
      "/Users/chaya.wurman/miniconda3/envs/metis/lib/python3.9/site-packages/sklearn/linear_model/_logistic.py:814: ConvergenceWarning: lbfgs failed to converge (status=1):\n",
      "STOP: TOTAL NO. of ITERATIONS REACHED LIMIT.\n",
      "\n",
      "Increase the number of iterations (max_iter) or scale the data as shown in:\n",
      "    https://scikit-learn.org/stable/modules/preprocessing.html\n",
      "Please also refer to the documentation for alternative solver options:\n",
      "    https://scikit-learn.org/stable/modules/linear_model.html#logistic-regression\n",
      "  n_iter_i = _check_optimize_result(\n",
      "/Users/chaya.wurman/miniconda3/envs/metis/lib/python3.9/site-packages/sklearn/linear_model/_logistic.py:814: ConvergenceWarning: lbfgs failed to converge (status=1):\n",
      "STOP: TOTAL NO. of ITERATIONS REACHED LIMIT.\n",
      "\n",
      "Increase the number of iterations (max_iter) or scale the data as shown in:\n",
      "    https://scikit-learn.org/stable/modules/preprocessing.html\n",
      "Please also refer to the documentation for alternative solver options:\n",
      "    https://scikit-learn.org/stable/modules/linear_model.html#logistic-regression\n",
      "  n_iter_i = _check_optimize_result(\n",
      "/Users/chaya.wurman/miniconda3/envs/metis/lib/python3.9/site-packages/sklearn/linear_model/_logistic.py:814: ConvergenceWarning: lbfgs failed to converge (status=1):\n",
      "STOP: TOTAL NO. of ITERATIONS REACHED LIMIT.\n",
      "\n",
      "Increase the number of iterations (max_iter) or scale the data as shown in:\n",
      "    https://scikit-learn.org/stable/modules/preprocessing.html\n",
      "Please also refer to the documentation for alternative solver options:\n",
      "    https://scikit-learn.org/stable/modules/linear_model.html#logistic-regression\n",
      "  n_iter_i = _check_optimize_result(\n",
      "/Users/chaya.wurman/miniconda3/envs/metis/lib/python3.9/site-packages/sklearn/linear_model/_logistic.py:814: ConvergenceWarning: lbfgs failed to converge (status=1):\n",
      "STOP: TOTAL NO. of ITERATIONS REACHED LIMIT.\n",
      "\n",
      "Increase the number of iterations (max_iter) or scale the data as shown in:\n",
      "    https://scikit-learn.org/stable/modules/preprocessing.html\n",
      "Please also refer to the documentation for alternative solver options:\n",
      "    https://scikit-learn.org/stable/modules/linear_model.html#logistic-regression\n",
      "  n_iter_i = _check_optimize_result(\n"
     ]
    }
   ],
   "source": [
    "# Train a simple model to test\n",
    "\n",
    "\n",
    "# For tuning, see what happens if we only train on a subset of data\n",
    "# and see what's the highest accuracy we can get\n",
    "from itertools import chain, combinations\n",
    "\n",
    "def powerset(iterable):\n",
    "    s = list(iterable)\n",
    "    return chain.from_iterable(combinations(s, r) for r in range(len(s)+1))\n",
    "\n",
    "def findsubsets(s, n):\n",
    "    return list(combinations(s, n))\n",
    "\n",
    "from sklearn.metrics import f1_score, recall_score\n",
    "all_columns_subset = findsubsets(X_train.columns, 3)\n",
    "print(len(all_columns_subset))\n",
    "all_recall_scores = []\n",
    "all_f1_scores = []\n",
    "for features_to_include in all_columns_subset:\n",
    "    X_train_subset = X_train[list(features_to_include)]\n",
    "    X_test_subset = X_test[list(features_to_include)]\n",
    "\n",
    "    logreg = LogisticRegression(max_iter=50)\n",
    "    logreg.fit(X_train_subset, y_train)\n",
    "\n",
    "    y_predict = logreg.predict(X_test_subset)\n",
    "    all_recall_scores.append(recall_score(y_test, y_predict))\n",
    "    all_f1_scores.append(f1_score(y_test, y_predict))\n",
    "\n",
    "features_data_frame = pd.DataFrame({\"features\": all_columns_subset,\n",
    "                                    \"recall\": all_recall_scores,\n",
    "                                    \"f1\": all_f1_scores})"
   ],
   "metadata": {
    "collapsed": false,
    "pycharm": {
     "name": "#%% Train a Logistic Regression model!\n"
    }
   }
  },
  {
   "cell_type": "code",
   "execution_count": 9,
   "outputs": [
    {
     "name": "stdout",
     "output_type": "stream",
     "text": [
      "                                              features    recall        f1\n",
      "939  (age_years, highest_education_level, marital_s...  0.853659  0.175879\n",
      "494  (overweight_diagnosed, age_years, highest_educ...  0.829268  0.170854\n",
      "729  (diabetes_high_blood_sugar_but_not_diabetes, a...  0.829268  0.176623\n",
      "865  (alcohol_use_more_than_12_drinks_per_year, age...  0.829268  0.171717\n",
      "914       (gender, age_years, highest_education_level)  0.829268  0.175258\n",
      "585  (coronary_heart_disease, age_years, highest_ed...  0.804878  0.167939\n",
      "941    (age_years, highest_education_level, height_cm)  0.804878  0.166667\n",
      "942   (age_years, highest_education_level, diet_is_on)  0.804878  0.167089\n",
      "389  (high_blood_cholesterol, age_years, highest_ed...  0.780488  0.162437\n",
      "916                     (gender, age_years, weight_kg)  0.780488  0.161209\n",
      "{'age_years', 'diabetes_high_blood_sugar_but_not_diabetes', 'marital_status', 'gender', 'weight_kg', 'diet_is_on', 'highest_education_level', 'overweight_diagnosed', 'high_blood_cholesterol', 'height_cm', 'coronary_heart_disease', 'alcohol_use_more_than_12_drinks_per_year'}\n"
     ]
    }
   ],
   "source": [
    "# Find some info about whats our most important features\n",
    "# Let's at least require that our f1 score is higher than with 0.16, what we got while using all features\n",
    "decent_features = features_data_frame[features_data_frame.f1 >= 0.16]\n",
    "best_3_features = decent_features.nlargest(10, \"recall\")\n",
    "print(best_3_features)\n",
    "\n",
    "\n",
    "# What happens if we try to just train on all the best features from this list\n",
    "all_best_features = set()\n",
    "for i, row in best_3_features.iterrows():\n",
    "    all_best_features = all_best_features.union(set(row[\"features\"]))\n",
    "\n",
    "print(all_best_features)\n",
    "\n",
    "# From here, we see that some of our most important features are:\n",
    "# {'coronary_heart_disease', 'age_years', 'highest_education_level', 'gender', 'overweight_diagnosed', 'diet_is_on', 'diabetes_high_blood_sugar_but_not_diabetes', 'marital_status', 'weight_kg'}\n",
    "# This gives us ~9 features that we should drill down on"
   ],
   "metadata": {
    "collapsed": false,
    "pycharm": {
     "name": "#%%\n"
    }
   }
  },
  {
   "cell_type": "code",
   "execution_count": 41,
   "outputs": [
    {
     "name": "stdout",
     "output_type": "stream",
     "text": [
      "Metrics for LogReg using best features we could find\n",
      "  - Accuracy: 0.6982990152193375\n",
      "  - Recall: 0.7804878048780488\n",
      "  - Precision: 0.08888888888888889\n",
      "  - F1 Score: 0.1596009975062344\n",
      "  - AUC: 0.7378275455617009\n"
     ]
    },
    {
     "name": "stderr",
     "output_type": "stream",
     "text": [
      "/Users/chaya.wurman/miniconda3/envs/metis/lib/python3.9/site-packages/sklearn/linear_model/_logistic.py:814: ConvergenceWarning: lbfgs failed to converge (status=1):\n",
      "STOP: TOTAL NO. of ITERATIONS REACHED LIMIT.\n",
      "\n",
      "Increase the number of iterations (max_iter) or scale the data as shown in:\n",
      "    https://scikit-learn.org/stable/modules/preprocessing.html\n",
      "Please also refer to the documentation for alternative solver options:\n",
      "    https://scikit-learn.org/stable/modules/linear_model.html#logistic-regression\n",
      "  n_iter_i = _check_optimize_result(\n"
     ]
    },
    {
     "data": {
      "text/plain": "<sklearn.metrics._plot.confusion_matrix.ConfusionMatrixDisplay at 0x1afd41f40>"
     },
     "execution_count": 41,
     "metadata": {},
     "output_type": "execute_result"
    },
    {
     "data": {
      "text/plain": "<Figure size 432x288 with 2 Axes>",
      "image/png": "[encoded data removed]"
     },
     "metadata": {
      "needs_background": "light"
     },
     "output_type": "display_data"
    }
   ],
   "source": [
    "# and score it\n",
    "best_features = list(all_best_features)\n",
    "logreg_best_features = LogisticRegression()\n",
    "X_train_best_features = X_train[list(best_features)]\n",
    "X_test_best_features = X_test[list(best_features)]\n",
    "logreg_best_features.fit(X_train_best_features, y_train)\n",
    "\n",
    "print_basic_metrics(\"LogReg using best features we could find\", y_test, logreg_best_features.predict(X_test_best_features))\n",
    "\n",
    "\n",
    "# Confusion Matrix\n",
    "from sklearn.metrics import ConfusionMatrixDisplay\n",
    "ConfusionMatrixDisplay.from_estimator(logreg_best_features, X_test_best_features, y_test)\n"
   ],
   "metadata": {
    "collapsed": false,
    "pycharm": {
     "name": "#%% Train a model on just the most important features!\n"
    }
   }
  },
  {
   "cell_type": "code",
   "execution_count": 49,
   "outputs": [
    {
     "name": "stdout",
     "output_type": "stream",
     "text": [
      "Feature age_years, Score 0.07533871797492106\n",
      "Feature coronary_heart_disease, Score -0.17962784125212042\n",
      "Feature highest_education_level, Score -0.2951968319770132\n",
      "Feature overweight_diagnosed, Score 0.08003983109851867\n",
      "Feature gender, Score 0.08479670823280537\n",
      "Feature high_blood_cholesterol, Score -0.7187588116485378\n",
      "Feature diet_is_on, Score -0.028130251160874517\n",
      "Feature alcohol_use_more_than_12_drinks_per_year, Score -0.34808061584090133\n",
      "Feature diabetes_high_blood_sugar_but_not_diabetes, Score 1.1017322218968904\n",
      "Feature marital_status, Score -0.15676907486876032\n",
      "Feature weight_kg, Score 0.005396192781114532\n",
      "Feature height_cm, Score -0.022577235010385534\n"
     ]
    },
    {
     "data": {
      "text/plain": "<Figure size 432x288 with 1 Axes>",
      "image/png": "[encoded data removed]"
     },
     "metadata": {
      "needs_background": "light"
     },
     "output_type": "display_data"
    }
   ],
   "source": [
    "# Lastly, get the coefficients for all these so we can have a ranked list of the most important\n",
    "importance = logreg_best_features.coef_[0]\n",
    "# summarize feature importance\n",
    "for i,v in enumerate(importance):\n",
    "    print(f\"Feature {best_features[i]}, Score {importance[i]}\")\n",
    "# plot feature importance\n",
    "plt.bar(range(len(importance)), importance)\n",
    "plt.xticks(range(len(importance)), best_features, rotation=-90)\n",
    "plt.show()\n"
   ],
   "metadata": {
    "collapsed": false,
    "pycharm": {
     "name": "#%%\n"
    }
   }
  }
 ],
 "metadata": {
  "kernelspec": {
   "name": "conda-env-metis-py",
   "language": "python",
   "display_name": "Python [conda env:metis] *"
  },
  "language_info": {
   "codemirror_mode": {
    "name": "ipython",
    "version": 2
   },
   "file_extension": ".py",
   "mimetype": "text/x-python",
   "name": "python",
   "nbconvert_exporter": "python",
   "pygments_lexer": "ipython2",
   "version": "2.7.6"
  }
 },
 "nbformat": 4,
 "nbformat_minor": 0
}