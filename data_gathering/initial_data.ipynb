{
 "cells": [
  {
   "cell_type": "markdown",
   "source": [
    "This exists just to pull together some of the essential data and save it to a new csv for more easy imports later"
   ],
   "metadata": {
    "collapsed": false,
    "pycharm": {
     "name": "#%% md\n"
    }
   }
  },
  {
   "cell_type": "code",
   "execution_count": 1,
   "outputs": [],
   "source": [
    "# Import all our necessary libraries\n",
    "\n",
    "import pandas as pd\n",
    "import numpy as np\n"
   ],
   "metadata": {
    "collapsed": false,
    "pycharm": {
     "name": "#%%\n"
    }
   }
  },
  {
   "cell_type": "code",
   "execution_count": 8,
   "outputs": [],
   "source": [
    "# Load all the initial datasets, and pull in relevant columns\n",
    "demographics = pd.read_csv(\"demographic.csv\")\n",
    "diet = pd.read_csv(\"diet.csv\")\n",
    "examination = pd.read_csv(\"examination.csv\")\n",
    "labs = pd.read_csv(\"labs.csv\")\n",
    "# medications = pd.read_csv(\"medications.csv\")\n",
    "questionnare = pd.read_csv(\"questionnaire.csv\")"
   ],
   "metadata": {
    "collapsed": false,
    "pycharm": {
     "name": "#%%\n"
    }
   }
  },
  {
   "cell_type": "code",
   "execution_count": 9,
   "outputs": [],
   "source": [
    "# Using some of the findings here to help find relevant columns to pull out\n",
    "# https://www.ncbi.nlm.nih.gov/pmc/articles/PMC8487286/\n",
    "\n",
    "# pull out the relevant columns & put them into a new dataframe\n",
    "demographics_new = demographics[[\"SEQN\", \"RIAGENDR\", \"RIDAGEYR\", \"RIDRETH3\", \"DMDEDUC2\", \"DMDMARTL\", \"INDHHIN2\"]]\n",
    "rename_columns = {\"SEQN\": \"id\",\n",
    "                  \"RIAGENDR\": \"gender\",\n",
    "                  \"RIDAGEYR\": \"age_years\",\n",
    "                  \"RIDRETH3\": \"race\",\n",
    "                  \"DMDEDUC2\": \"highest_education_level\",\n",
    "                  \"DMDMARTL\": \"marital_status\",\n",
    "                  \"INDHHIN2\": \"household_income\"}\n",
    "demographics_new = demographics_new.rename(columns=rename_columns)\n",
    "\n",
    "# might want to pull in DRQSDT1-12 at some point if diet ends up being helpful and we\n",
    "# want more specificity\n",
    "diet_new = diet[[\"SEQN\", \"DRQSDIET\"]]\n",
    "diet_new = diet_new.rename(columns={\"SEQN\": \"id\", \"DRQSDIET\": \"diet_is_on\"})\n",
    "\n",
    "# TODO: probably pull more stuff from examinations\n",
    "examination_new = examination[[\"SEQN\", \"BMXWT\", \"BMXHT\"]]\n",
    "rename_columns = {\n",
    "    \"SEQN\": \"id\",\n",
    "    \"BMXWT\": \"weight_kg\",\n",
    "    \"BMXHT\": \"height_cm\"\n",
    "}\n",
    "examination_new = examination_new.rename(columns=rename_columns)\n",
    "\n",
    "questionnare_new = questionnare[[\"SEQN\", \"CDQ001\", \"BPQ020\", \"BPQ040A\", \"BPQ080\", \"MCQ080\", \"MCQ160C\", \"MCQ160F\",\n",
    "                             \"PAD660\", \"PAD675\", \"PAQ610\", \"PAQ625\", \"PAQ655\", \"PAQ670\", \"DIQ010\", \"DIQ160\",\n",
    "                             \"SMD480\", \"SMQ040\", \"SMQ020\", \"SMQ621\",\n",
    "                             \"IND235\",\n",
    "                             # \"DUQ250\", \"DUQ280\", \"DUQ290\", \"DUQ320\", \"DUQ330\", \"DUQ360\",\n",
    "                             \"ALQ101\", \"ALQ120Q\"]]\n",
    "rename_columns = {\n",
    "    \"SEQN\": \"id\",\n",
    "    \"CDQ001\": \"chest_pain\",\n",
    "    \"BPQ020\": \"high_blood_pressure_diagnosed\",\n",
    "    \"BPQ040A\": \"high_blood_pressure_prescribed_medicine\",\n",
    "    \"BPQ050A\": \"high_blood_pressure_taking_medicine\",\n",
    "    \"BPQ080\": \"high_blood_cholesterol\",\n",
    "    \"BPQ090D\": \"high_blood_cholesterol_prescribed_medicine\",\n",
    "    \"BPQ100D\": \"high_blood_cholesterol_taking_medicine\",\n",
    "    \"MCQ080\": \"overweight_diagnosed\",\n",
    "    \"MCQ160C\": \"coronary_heart_disease\",\n",
    "    \"PAD660\": \"physical_activity_vigorous_time_per_day\",\n",
    "    \"PAD675\": \"physical_activity_moderate_time_per_day\",\n",
    "    \"PAQ610\": \"physical_activity_vigorous_days_per_week\",\n",
    "    \"PAQ625\": \"physical_activity_moderate_days_per_week\",\n",
    "    \"PAQ655\": \"physical_activity_recreational_vigorous_days_per_week\",\n",
    "    \"PAQ670\": \"physical_activity_recreational_moderate_days_per_week\",\n",
    "    \"DIQ010\": \"diabetes_diagnosed\",\n",
    "    \"DIQ160\": \"diabetes_high_blood_sugar_but_not_diabetes\",\n",
    "    \"SMD480\": \"smoking_people_in_household_days_per_week\",\n",
    "    \"SMQ040\": \"smoking_currently_smoking\",\n",
    "    \"SMQ020\": \"smoking_smoked_at_least_100_cigarettes\",\n",
    "    \"SMQ621\": \"smoking_total_number_cigarettes_smoked\",\n",
    "    \"IND235\": \"income_family_monthly\",\n",
    "    # \"DUQ250\": \"drug_use_cocaine\",\n",
    "    # \"DUQ280\": \"drug_use_cocaine_last_30_days\",\n",
    "    # \"DUQ290\": \"drug_use_heroin\",\n",
    "    # \"DUQ320\": \"drug_use_heroin_last_30_days\",\n",
    "    # \"DUQ330\": \"drug_use_meth\",\n",
    "    # \"DUQ360\": \"drug_use_meth_last_30_days\",\n",
    "    \"ALQ101\": \"alcohol_use_more_than_12_drinks_per_year\",\n",
    "    \"ALQ120Q\": \"alcohol_use_how_often\",\n",
    "    \"MCQ160F\": \"LABEL_had_stroke\"\n",
    "}\n",
    "questionnare_new = questionnare_new.rename(columns=rename_columns)"
   ],
   "metadata": {
    "collapsed": false,
    "pycharm": {
     "name": "#%%\n"
    }
   }
  },
  {
   "cell_type": "code",
   "execution_count": 12,
   "outputs": [
    {
     "name": "stdout",
     "output_type": "stream",
     "text": [
      "<class 'pandas.core.frame.DataFrame'>\n",
      "Int64Index: 9813 entries, 0 to 9812\n",
      "Data columns (total 32 columns):\n",
      " #   Column                                                 Non-Null Count  Dtype  \n",
      "---  ------                                                 --------------  -----  \n",
      " 0   id                                                     9813 non-null   int64  \n",
      " 1   chest_pain                                             3708 non-null   float64\n",
      " 2   high_blood_pressure_diagnosed                          6266 non-null   float64\n",
      " 3   high_blood_pressure_prescribed_medicine                2118 non-null   float64\n",
      " 4   high_blood_cholesterol                                 6266 non-null   float64\n",
      " 5   overweight_diagnosed                                   6266 non-null   float64\n",
      " 6   coronary_heart_disease                                 5588 non-null   float64\n",
      " 7   LABEL_had_stroke                                       5588 non-null   float64\n",
      " 8   physical_activity_vigorous_time_per_day                2002 non-null   float64\n",
      " 9   physical_activity_moderate_time_per_day                2984 non-null   float64\n",
      " 10  physical_activity_vigorous_days_per_week               1142 non-null   float64\n",
      " 11  physical_activity_moderate_days_per_week               2251 non-null   float64\n",
      " 12  physical_activity_recreational_vigorous_days_per_week  2005 non-null   float64\n",
      " 13  physical_activity_recreational_moderate_days_per_week  2987 non-null   float64\n",
      " 14  diabetes_diagnosed                                     9421 non-null   float64\n",
      " 15  diabetes_high_blood_sugar_but_not_diabetes             6086 non-null   float64\n",
      " 16  smoking_people_in_household_days_per_week              1259 non-null   float64\n",
      " 17  smoking_currently_smoking                              2490 non-null   float64\n",
      " 18  smoking_smoked_at_least_100_cigarettes                 5924 non-null   float64\n",
      " 19  smoking_total_number_cigarettes_smoked                 1007 non-null   float64\n",
      " 20  income_family_monthly                                  9481 non-null   float64\n",
      " 21  alcohol_use_more_than_12_drinks_per_year               5421 non-null   float64\n",
      " 22  alcohol_use_how_often                                  4479 non-null   float64\n",
      " 23  gender                                                 9813 non-null   int64  \n",
      " 24  age_years                                              9813 non-null   int64  \n",
      " 25  race                                                   9813 non-null   int64  \n",
      " 26  highest_education_level                                5588 non-null   float64\n",
      " 27  marital_status                                         5588 non-null   float64\n",
      " 28  household_income                                       9700 non-null   float64\n",
      " 29  weight_kg                                              9723 non-null   float64\n",
      " 30  height_cm                                              9067 non-null   float64\n",
      " 31  diet_is_on                                             8783 non-null   float64\n",
      "dtypes: float64(28), int64(4)\n",
      "memory usage: 2.5 MB\n"
     ]
    }
   ],
   "source": [
    "# save it to a new final dataset\n",
    "final_dataframe = questionnare_new.merge(demographics_new,\n",
    "                                         on=\"id\")\n",
    "final_dataframe = final_dataframe.merge(examination_new,\n",
    "                                        on=\"id\")\n",
    "final_dataframe = final_dataframe.merge(diet_new,\n",
    "                                        on=\"id\")\n",
    "\n",
    "final_dataframe.info()\n",
    "final_dataframe.to_csv(\"../final_data.csv\")"
   ],
   "metadata": {
    "collapsed": false,
    "pycharm": {
     "name": "#%%\n"
    }
   }
  },
  {
   "cell_type": "code",
   "execution_count": null,
   "outputs": [],
   "source": [],
   "metadata": {
    "collapsed": false,
    "pycharm": {
     "name": "#%%\n"
    }
   }
  },
  {
   "cell_type": "code",
   "execution_count": null,
   "outputs": [],
   "source": [],
   "metadata": {
    "collapsed": false,
    "pycharm": {
     "name": "#%%\n"
    }
   }
  },
  {
   "cell_type": "code",
   "execution_count": null,
   "outputs": [],
   "source": [],
   "metadata": {
    "collapsed": false,
    "pycharm": {
     "name": "#%%\n"
    }
   }
  },
  {
   "cell_type": "code",
   "execution_count": null,
   "outputs": [],
   "source": [],
   "metadata": {
    "collapsed": false,
    "pycharm": {
     "name": "#%%\n"
    }
   }
  },
  {
   "cell_type": "code",
   "execution_count": null,
   "outputs": [],
   "source": [],
   "metadata": {
    "collapsed": false,
    "pycharm": {
     "name": "#%%"
    }
   }
  }
 ],
 "metadata": {
  "kernelspec": {
   "name": "conda-env-metis-py",
   "language": "python",
   "display_name": "Python [conda env:metis] *"
  },
  "language_info": {
   "codemirror_mode": {
    "name": "ipython",
    "version": 2
   },
   "file_extension": ".py",
   "mimetype": "text/x-python",
   "name": "python",
   "nbconvert_exporter": "python",
   "pygments_lexer": "ipython2",
   "version": "2.7.6"
  }
 },
 "nbformat": 4,
 "nbformat_minor": 0
}